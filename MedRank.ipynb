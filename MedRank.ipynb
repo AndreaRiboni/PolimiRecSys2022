{
 "cells": [
  {
   "cell_type": "code",
   "execution_count": 1,
   "metadata": {
    "collapsed": true
   },
   "outputs": [],
   "source": [
    "def medrank(lists):\n",
    "    n_lists = len(lists)\n",
    "    list_len = min(map(lambda x: len(x), lists))\n",
    "    rank = dict()\n",
    "    for idx in range(list_len):\n",
    "        for l_idx in range(n_lists):\n",
    "            item = lists[l_idx][idx]\n",
    "            if item in rank:\n",
    "                rank[item][l_idx] = idx+1\n",
    "            else:\n",
    "                x = [np.inf for _ in range(n_lists)]\n",
    "                x[l_idx] = idx+1\n",
    "                rank[item] = x\n",
    "    filtered_keys = list(filter(lambda k: rank[k].count(np.inf) < n_lists / 2, rank))\n",
    "    rank = {k: rank[k] for k in filtered_keys}\n",
    "    for item in rank:\n",
    "        rank[item] = np.median(rank[item])\n",
    "    final_rank = sorted(rank.keys(), key=lambda z: rank[z])\n",
    "    if len(final_rank) < 10:\n",
    "        for idx in range(list_len):\n",
    "            for l in lists:\n",
    "                if l[idx] not in final_rank:\n",
    "                    final_rank.append(l[idx])\n",
    "                    if len(final_rank) >= 10:\n",
    "                        return final_rank\n",
    "    return final_rank"
   ]
  },
  {
   "cell_type": "code",
   "execution_count": 2,
   "outputs": [
    {
     "name": "stdout",
     "output_type": "stream",
     "text": [
      "Warning: 930 (2.23 %) of 41629 users have no sampled items\n",
      "EvaluatorHoldout: Ignoring 930 ( 2.2%) Users that have less than 1 test interactions\n"
     ]
    }
   ],
   "source": [
    "from Evaluation.Evaluator import EvaluatorHoldout\n",
    "import numpy as np\n",
    "import pandas as pd\n",
    "import numpy as np\n",
    "import scipy.sparse as sps\n",
    "from Data_manager.split_functions.split_train_validation_random_holdout import split_train_in_two_percentage_global_sample\n",
    "from RecSys2022.Recommenders.SLIM.SLIMElasticNetRecommender import SLIMElasticNetRecommender\n",
    "from RecSys2022.Recommenders.EASE_R.EASE_R_Recommender import EASE_R_Recommender\n",
    "import RecSys2022.Utils.DataReader as dr\n",
    "\n",
    "URM_all = dr.load_urm(\"../data/URMtries/RatingsBinary.csv\")\n",
    "#ICM_all = dr.load_icm(\"../data/data_ICM_type_truncated.csv\")\n",
    "URM_train, URM_valid = split_train_in_two_percentage_global_sample(URM_all, train_percentage = 0.85)\n",
    "evaluator_valid = EvaluatorHoldout(URM_valid, cutoff_list=[10])"
   ],
   "metadata": {
    "collapsed": false
   }
  },
  {
   "cell_type": "code",
   "execution_count": 3,
   "outputs": [
    {
     "name": "stdout",
     "output_type": "stream",
     "text": [
      "EASE_R_Recommender: Fitting model... \n",
      "EASE_R_Recommender: Fitting model... done in 5.76 min\n",
      "EASE_R_Recommender: Detected model matrix to be sparse, changing format.\n"
     ]
    }
   ],
   "source": [
    "EaseRecommender = EASE_R_Recommender(URM_train=URM_all, sparse_threshold_quota=1.0)\n",
    "EaseRecommender.fit(topK=478, l2_norm=119.83582089765935)"
   ],
   "metadata": {
    "collapsed": false
   }
  },
  {
   "cell_type": "code",
   "execution_count": 4,
   "outputs": [
    {
     "name": "stdout",
     "output_type": "stream",
     "text": [
      "SLIMElasticNetRecommender: Processed 3449 (14.1%) in 5.00 min. Items per second: 11.49\n",
      "SLIMElasticNetRecommender: Processed 7170 (29.3%) in 10.00 min. Items per second: 11.94\n",
      "SLIMElasticNetRecommender: Processed 11252 (45.9%) in 15.00 min. Items per second: 12.50\n",
      "SLIMElasticNetRecommender: Processed 15295 (62.4%) in 20.00 min. Items per second: 12.74\n",
      "SLIMElasticNetRecommender: Processed 19380 (79.1%) in 25.00 min. Items per second: 12.92\n",
      "SLIMElasticNetRecommender: Processed 23264 (94.9%) in 30.00 min. Items per second: 12.92\n",
      "SLIMElasticNetRecommender: Processed 24507 (100.0%) in 31.54 min. Items per second: 12.95\n"
     ]
    }
   ],
   "source": [
    "SlimenRecommender = SLIMElasticNetRecommender(URM_train=URM_all)\n",
    "SlimenRecommender.fit(topK=500, l1_ratio=0.001, alpha=0.01)"
   ],
   "metadata": {
    "collapsed": false
   }
  },
  {
   "cell_type": "code",
   "execution_count": 5,
   "outputs": [],
   "source": [
    "recommenders = [EaseRecommender, SlimenRecommender]"
   ],
   "metadata": {
    "collapsed": false
   }
  },
  {
   "cell_type": "code",
   "execution_count": 14,
   "outputs": [],
   "source": [
    "class HybridRecommender:\n",
    "    def __init__(self, recommenders, urm_train):\n",
    "        self.recommenders = recommenders\n",
    "        self.urm_train = urm_train\n",
    "\n",
    "    def recommend_lists_medrank(self, user_id, at=10, exclude_seen=True):\n",
    "        recommendations = [recommender.recommend(user_id, cutoff=at, remove_seen_flag=True) for recommender in self.recommenders]\n",
    "        return medrank(recommendations)[:at]"
   ],
   "metadata": {
    "collapsed": false
   }
  },
  {
   "cell_type": "code",
   "execution_count": 15,
   "outputs": [],
   "source": [
    "hybrid = HybridRecommender(recommenders=recommenders, urm_train=URM_all)"
   ],
   "metadata": {
    "collapsed": false
   }
  },
  {
   "cell_type": "code",
   "execution_count": 16,
   "outputs": [
    {
     "data": {
      "text/plain": "       user_id\n0            0\n1            1\n2            2\n3            3\n4            4\n...        ...\n41111    41624\n41112    41625\n41113    41626\n41114    41627\n41115    41628\n\n[41116 rows x 1 columns]",
      "text/html": "<div>\n<style scoped>\n    .dataframe tbody tr th:only-of-type {\n        vertical-align: middle;\n    }\n\n    .dataframe tbody tr th {\n        vertical-align: top;\n    }\n\n    .dataframe thead th {\n        text-align: right;\n    }\n</style>\n<table border=\"1\" class=\"dataframe\">\n  <thead>\n    <tr style=\"text-align: right;\">\n      <th></th>\n      <th>user_id</th>\n    </tr>\n  </thead>\n  <tbody>\n    <tr>\n      <th>0</th>\n      <td>0</td>\n    </tr>\n    <tr>\n      <th>1</th>\n      <td>1</td>\n    </tr>\n    <tr>\n      <th>2</th>\n      <td>2</td>\n    </tr>\n    <tr>\n      <th>3</th>\n      <td>3</td>\n    </tr>\n    <tr>\n      <th>4</th>\n      <td>4</td>\n    </tr>\n    <tr>\n      <th>...</th>\n      <td>...</td>\n    </tr>\n    <tr>\n      <th>41111</th>\n      <td>41624</td>\n    </tr>\n    <tr>\n      <th>41112</th>\n      <td>41625</td>\n    </tr>\n    <tr>\n      <th>41113</th>\n      <td>41626</td>\n    </tr>\n    <tr>\n      <th>41114</th>\n      <td>41627</td>\n    </tr>\n    <tr>\n      <th>41115</th>\n      <td>41628</td>\n    </tr>\n  </tbody>\n</table>\n<p>41116 rows × 1 columns</p>\n</div>"
     },
     "execution_count": 16,
     "metadata": {},
     "output_type": "execute_result"
    }
   ],
   "source": [
    "test_users = pd.read_csv('../RecSys2022/data/data_target_users_test.csv')\n",
    "test_users"
   ],
   "metadata": {
    "collapsed": false
   }
  },
  {
   "cell_type": "code",
   "execution_count": 17,
   "outputs": [],
   "source": [
    "user_id = test_users['user_id']\n",
    "recommendations = []\n",
    "for user in user_id:\n",
    "    recommendations.append(hybrid.recommend_lists_medrank(user))"
   ],
   "metadata": {
    "collapsed": false
   }
  },
  {
   "cell_type": "code",
   "execution_count": 18,
   "outputs": [],
   "source": [
    "for index in range(len(recommendations)):\n",
    "    recommendations[index]=np.array(recommendations[index])\n",
    "\n",
    "test_users['item_list']= recommendations\n",
    "test_users['item_list'] = pd.DataFrame([str(line).strip('[').strip(']').replace(\"'\",\"\") for line in test_users['item_list']])\n",
    "test_users.to_csv('submission-medrank.csv', index=False)"
   ],
   "metadata": {
    "collapsed": false
   }
  },
  {
   "cell_type": "code",
   "execution_count": null,
   "outputs": [],
   "source": [],
   "metadata": {
    "collapsed": false
   }
  }
 ],
 "metadata": {
  "kernelspec": {
   "display_name": "Python 3",
   "language": "python",
   "name": "python3"
  },
  "language_info": {
   "codemirror_mode": {
    "name": "ipython",
    "version": 2
   },
   "file_extension": ".py",
   "mimetype": "text/x-python",
   "name": "python",
   "nbconvert_exporter": "python",
   "pygments_lexer": "ipython2",
   "version": "2.7.6"
  }
 },
 "nbformat": 4,
 "nbformat_minor": 0
}
