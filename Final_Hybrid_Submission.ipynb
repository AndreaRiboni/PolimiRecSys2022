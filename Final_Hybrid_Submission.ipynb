{
 "cells": [
  {
   "cell_type": "markdown",
   "source": [
    "# Import libraries"
   ],
   "metadata": {
    "collapsed": false
   }
  },
  {
   "cell_type": "code",
   "execution_count": 4,
   "metadata": {
    "collapsed": true
   },
   "outputs": [],
   "source": [
    "import time\n",
    "import pandas as pd\n",
    "import numpy as np\n",
    "import scipy.sparse as sps\n",
    "import matplotlib.pyplot as pyplot\n",
    "import Utils.DataReader as dr\n",
    "from Evaluation.Evaluator import EvaluatorHoldout\n",
    "from Recommenders.Hybrid.HybridRecommender import DifferentLossRecommender\n",
    "from Utils.confidence_scaling import linear_scaling_confidence"
   ]
  },
  {
   "cell_type": "markdown",
   "source": [
    "# Create URMs and ICM"
   ],
   "metadata": {
    "collapsed": false
   }
  },
  {
   "cell_type": "code",
   "execution_count": null,
   "outputs": [],
   "source": [
    "URM_valid = sps.load_npz('./validDefault.npz')\n",
    "\n",
    "ICM_tr = dr.load_icm(\"./UrmTries/data_ICM_type_truncated.csv\")\n",
    "\n",
    "URM_all = dr.load_urm(\"./UrmTries/RatingsBinary.csv\")\n",
    "URM_train = sps.load_npz('./trainDefault.npz')\n",
    "stacked_URM = sps.vstack([URM_all, ICM_tr.T])\n",
    "stacked_URM_train = sps.vstack([URM_train, ICM_tr.T])\n",
    "\n",
    "URM_train_tanh = sps.load_npz(\"./trainTanH.npz\")\n",
    "stacked_URM_train_tanh = sps.vstack([URM_train_tanh, ICM_tr.T])\n",
    "URM_all_tanh = dr.load_urm(\"./UrmTries/RatingsWithTanHCount.csv\")\n",
    "stacked_URM_tanh = sps.vstack([URM_all_tanh, ICM_tr.T])\n",
    "\n",
    "evaluator_validation = EvaluatorHoldout(URM_valid, cutoff_list=[10])"
   ],
   "metadata": {
    "collapsed": false,
    "pycharm": {
     "is_executing": true
    }
   }
  },
  {
   "cell_type": "markdown",
   "source": [
    "# Load or fit recommenders"
   ],
   "metadata": {
    "collapsed": false
   }
  },
  {
   "cell_type": "code",
   "execution_count": 19,
   "outputs": [],
   "source": [
    "Urm_in_use = URM_all\n",
    "stacked_Urm_in_use = stacked_URM\n",
    "\n",
    "loadStr = '-all'\n",
    "\n",
    "Urm_tanh_in_use = URM_all_tanh\n",
    "stacked_Urm_tanh_in_use = stacked_URM_tanh"
   ],
   "metadata": {
    "collapsed": false
   }
  },
  {
   "cell_type": "markdown",
   "source": [
    "## Recommenders on binary URM\n",
    "### SLIM ElasticNet\n",
    "trained on a stacked URM"
   ],
   "metadata": {
    "collapsed": false
   }
  },
  {
   "cell_type": "code",
   "execution_count": null,
   "outputs": [],
   "source": [
    "from Recommenders.SLIM.SLIMElasticNetRecommender import SLIMElasticNetRecommender\n",
    "recommender_SLIMElasticNet = SLIMElasticNetRecommender(stacked_Urm_in_use)\n",
    "if loadStr is None:\n",
    "    recommender_SLIMElasticNet.fit(topK= 950, l1_ratio= 0.004999999999999999, alpha= 0.0015746723778813712)\n",
    "else:\n",
    "    recommender_SLIMElasticNet.load_model(folder_path= \"./ModelsForFinalSub/\", file_name= recommender_SLIMElasticNet.RECOMMENDER_NAME+loadStr+ \"Stack\")\n",
    "    recommender_SLIMElasticNet.W_sparse = recommender_SLIMElasticNet.W_sparse.get('W_sparse')"
   ],
   "metadata": {
    "collapsed": false
   }
  },
  {
   "cell_type": "markdown",
   "source": [
    "### IALS (implicit library)"
   ],
   "metadata": {
    "collapsed": false
   }
  },
  {
   "cell_type": "code",
   "execution_count": null,
   "outputs": [],
   "source": [
    "from Recommenders.MatrixFactorization.IALSRecommender import IALSRecommender\n",
    "recommender_IALS = IALSRecommender(Urm_in_use)\n",
    "if loadStr is None:\n",
    "    recommender_IALS.fit(num_factors= 154, epochs= 140, confidence_scaling= 'linear', alpha=  6.28182586673945, epsilon= 10.0, reg= 1e-05)\n",
    "else:\n",
    "    recommender_IALS.load_model(folder_path= \"./SavedModels/\", file_name= recommender_IALS.RECOMMENDER_NAME + loadStr)"
   ],
   "metadata": {
    "collapsed": false
   }
  },
  {
   "cell_type": "markdown",
   "source": [
    "### MultVAER"
   ],
   "metadata": {
    "collapsed": false
   }
  },
  {
   "cell_type": "code",
   "execution_count": null,
   "outputs": [],
   "source": [
    "from Recommenders.Neural.MultVAERecommender import MultVAERecommender\n",
    "recommender_Neural = MultVAERecommender(Urm_in_use)\n",
    "\n",
    "if loadStr is None:\n",
    "    recommender_Neural.fit(anneal_cap= 0.1063276470142029, batch_size= 128, dropout=0.15215292346427248, epochs= 131, l2_reg= 0.0014502013635276703, learning_rate= 0.00017395673258925492, total_anneal_steps= 389179.15872038255)\n",
    "else:\n",
    "    recommender_Neural.load_model(folder_path= \"./SavedModels/\", file_name= recommender_Neural.RECOMMENDER_NAME + loadStr)"
   ],
   "metadata": {
    "collapsed": false
   }
  },
  {
   "cell_type": "markdown",
   "source": [
    "### RP3Beta\n",
    "RP3 is a hybrid of an RP3Beta recommender trained on item similarity and another trained on user similarity, both trained on a stacked URM"
   ],
   "metadata": {
    "collapsed": false
   }
  },
  {
   "cell_type": "code",
   "execution_count": 1,
   "outputs": [
    {
     "name": "stderr",
     "output_type": "stream",
     "text": [
      "\n",
      "KeyboardInterrupt\n",
      "\n"
     ]
    }
   ],
   "source": [
    "from Recommenders.GraphBased.RP3betaRecommender import RP3betaRecommender\n",
    "recommender_RP3_item2 = RP3betaRecommender(stacked_Urm_in_use)\n",
    "recommender_RP3_item2.fit(alpha= 0.995466740022619, beta= 0.3233559977001016, topK=44, implicit=True)\n",
    "\n",
    "from Recommenders.GraphBased.RP3betaRecommender import UserRp3Recommender\n",
    "recommender_RP3_user = UserRp3Recommender(stacked_Urm_in_use)\n",
    "recommender_RP3_user.fit(topK= 230, alpha= 0.09153459721768885, beta= 0.5796466701328884, normalize_similarity= True)\n",
    "\n",
    "recommender_Rp3It_RP3Us = DifferentLossRecommender(\n",
    "    URM_train= stacked_Urm_in_use,\n",
    "    Recommenders = [recommender_RP3_item2, recommender_RP3_user]\n",
    ")\n",
    "recommender_Rp3It_RP3Us.fit(alpha=41.67923805057402, beta=25.013807484352405)"
   ],
   "metadata": {
    "collapsed": false
   }
  },
  {
   "cell_type": "markdown",
   "source": [
    "### EASE-R\n",
    "This recommender has been trained on a weighted stacked URM"
   ],
   "metadata": {
    "collapsed": false
   }
  },
  {
   "cell_type": "code",
   "execution_count": 21,
   "outputs": [
    {
     "name": "stdout",
     "output_type": "stream",
     "text": [
      "EASE_R_Recommender: Loading model from file '/Users/nicolacecere/GitHub/RecSysComp-22/ModelsForFinalSub/EASE_R_Recommender-allK-Stack'\n"
     ]
    }
   ],
   "source": [
    "from Recommenders.EASE_R.EASE_R_Recommender import EASE_R_Recommender\n",
    "recommender_EASE = EASE_R_Recommender(URM_train= Urm_in_use, ICM= ICM_tr)\n",
    "recommender_EASE.load_model(folder_path= \"./ModelsForFinalSub/\", file_name= recommender_EASE.RECOMMENDER_NAME+loadStr+\"K-Stack\")\n",
    "recommender_EASE.W_sparse = recommender_EASE.W_sparse.get('W_sparse')"
   ],
   "metadata": {
    "collapsed": false
   }
  },
  {
   "cell_type": "markdown",
   "source": [
    "# Creating the binary-trained hybrid recommender"
   ],
   "metadata": {
    "collapsed": false
   }
  },
  {
   "cell_type": "code",
   "execution_count": 22,
   "outputs": [
    {
     "name": "stdout",
     "output_type": "stream",
     "text": [
      "DifferentLossScoresHybridRecommenderLight: URM Detected 3 ( 0.0%) users with no interactions.\n"
     ]
    }
   ],
   "source": [
    "recommender_Big6 = DifferentLossRecommender(\n",
    "    URM_train= stacked_Urm_in_use,\n",
    "    Recommenders=[\n",
    "        recommender_SLIMElasticNet,\n",
    "        recommender_IALS,\n",
    "        recommender_Neural,\n",
    "        recommender_Rp3It_RP3Us,\n",
    "        recommender_EASE\n",
    "    ]\n",
    ")\n",
    "\n",
    "recommender_Big6.fit(\n",
    "    coefficients=[\n",
    "        400,\n",
    "        41.949135309274496,\n",
    "        4.638442410093666,\n",
    "        4.536335391442595,\n",
    "        26.99003518893163\n",
    "    ]\n",
    ")"
   ],
   "metadata": {
    "collapsed": false
   }
  },
  {
   "cell_type": "code",
   "execution_count": null,
   "outputs": [],
   "source": [
    "from Recommenders.MatrixFactorization.ImplicitALSRecommender import ImplicitALSRecommender\n",
    "recommender_implicitAls = ImplicitALSRecommender(stacked_Urm_in_use)\n",
    "recommender_implicitAls.fit(iterations= int(83.64347328971459), factors= int(125.3856187337561), regularization= 0.05106206327352681, use_gpu=False, num_threads=0, confidence_scaling=linear_scaling_confidence,**{\"alpha\":5.579621138255679})"
   ],
   "metadata": {
    "collapsed": false,
    "pycharm": {
     "is_executing": true
    }
   }
  },
  {
   "cell_type": "markdown",
   "source": [
    "# Recommenders on real-valued URM"
   ],
   "metadata": {
    "collapsed": false
   }
  },
  {
   "cell_type": "markdown",
   "source": [
    "### EASE-R"
   ],
   "metadata": {
    "collapsed": false
   }
  },
  {
   "cell_type": "code",
   "execution_count": null,
   "outputs": [],
   "source": [
    "recommender_EASE_tanh = EASE_R_Recommender(Urm_tanh_in_use)\n",
    "if loadStr is None:\n",
    "    recommender_EASE_tanh.fit(topK= 286, l2_norm= 27.29893580116881, normalize_matrix= False)\n",
    "else:\n",
    "    recommender_EASE_tanh.load_model(folder_path= \"./SavedModels/\", file_name= recommender_EASE_tanh.RECOMMENDER_NAME+loadStr+ \"Tanh\")\n",
    "    recommender_EASE_tanh.W_sparse = recommender_EASE_tanh.W_sparse.get('W_sparse')"
   ],
   "metadata": {
    "collapsed": false
   }
  },
  {
   "cell_type": "markdown",
   "source": [
    "### SLIM-ElasticNet"
   ],
   "metadata": {
    "collapsed": false
   }
  },
  {
   "cell_type": "code",
   "execution_count": null,
   "outputs": [],
   "source": [
    "recommendere_SlimEl_tanh = SLIMElasticNetRecommender(Urm_tanh_in_use)\n",
    "if loadStr is None:\n",
    "    recommendere_SlimEl_tanh.fit(topK= 198, l1_ratio= 0.00024230402084727103, alpha= 0.001)\n",
    "else:\n",
    "    recommendere_SlimEl_tanh.load_model(folder_path= \"./SavedModels/\", file_name= recommendere_SlimEl_tanh.RECOMMENDER_NAME+loadStr+ \"Tanh\")\n",
    "    recommendere_SlimEl_tanh.W_sparse = recommendere_SlimEl_tanh.W_sparse.get('W_sparse')"
   ],
   "metadata": {
    "collapsed": false
   }
  },
  {
   "cell_type": "markdown",
   "source": [
    "### RP3Beta\n",
    "Stacked URM"
   ],
   "metadata": {
    "collapsed": false
   }
  },
  {
   "cell_type": "code",
   "execution_count": null,
   "outputs": [],
   "source": [
    "recommender_RP3_tanh = RP3betaRecommender(stacked_Urm_tanh_in_use)\n",
    "recommender_RP3_tanh.fit(topK=60, alpha=0.3, beta=0.32670025928668045, normalize_similarity= True)"
   ],
   "metadata": {
    "collapsed": false,
    "pycharm": {
     "is_executing": true
    }
   }
  },
  {
   "cell_type": "markdown",
   "source": [
    "### IALS"
   ],
   "metadata": {
    "collapsed": false
   }
  },
  {
   "cell_type": "code",
   "execution_count": null,
   "outputs": [],
   "source": [
    "from Recommenders.MatrixFactorization.ImplicitALSRecommender import ImplicitALSRecommender\n",
    "recommender_implicitAls_tanh = ImplicitALSRecommender(Urm_tanh_in_use)\n",
    "recommender_implicitAls_tanh.fit(iterations= int(148.98167124505565), factors= int(143.60013227969296), regularization=  0.03055580674080681,use_gpu=False, num_threads=4, confidence_scaling=linear_scaling_confidence,**{\"alpha\":29.895542778870325})"
   ],
   "metadata": {
    "collapsed": false
   }
  },
  {
   "cell_type": "markdown",
   "source": [
    "### MultVAER"
   ],
   "metadata": {
    "collapsed": false
   }
  },
  {
   "cell_type": "code",
   "execution_count": null,
   "outputs": [],
   "source": [
    "from Recommenders.Neural.MultVAERecommender import MultVAERecommender\n",
    "recommender_Neural_tanh = MultVAERecommender(Urm_tanh_in_use)\n",
    "if loadStr is None:\n",
    "    recommender_Neural_tanh.fit(anneal_cap= 0.2290474595231197, batch_size= 265, dropout=0.5910820786174827, epochs= int(130.140153041107), l2_reg= 0.0005490814004300171, learning_rate= 0.0001985729957209476, total_anneal_steps= 235725.65374509263)\n",
    "else:\n",
    "    recommender_Neural_tanh.load_model(folder_path= \"./SavedModels/\", file_name= recommender_Neural_tanh.RECOMMENDER_NAME+loadStr+ \"Tanh\")\n"
   ],
   "metadata": {
    "collapsed": false,
    "pycharm": {
     "is_executing": true
    }
   }
  },
  {
   "cell_type": "markdown",
   "source": [
    "# Creating the real-valued-URM-trained hybrid recommender"
   ],
   "metadata": {
    "collapsed": false
   }
  },
  {
   "cell_type": "code",
   "execution_count": 27,
   "outputs": [
    {
     "name": "stdout",
     "output_type": "stream",
     "text": [
      "DifferentLossScoresHybridRecommenderLight: URM Detected 3 ( 0.0%) users with no interactions.\n"
     ]
    }
   ],
   "source": [
    "recommender_Big5_tanh = DifferentLossRecommender(\n",
    "    URM_train= stacked_Urm_in_use,\n",
    "    Recommenders=[\n",
    "        recommender_EASE_tanh,\n",
    "        recommendere_SlimEl_tanh,\n",
    "        recommender_RP3_tanh,\n",
    "        recommender_implicitAls_tanh,\n",
    "        recommender_Neural_tanh\n",
    "    ]\n",
    ")\n",
    "\n",
    "recommender_Big5_tanh.fit(\n",
    "    coefficients=[\n",
    "        50.0,\n",
    "        62.05028485976309,\n",
    "        200.0,\n",
    "        22.021908709960933,\n",
    "        2.2587858482791896\n",
    "    ]\n",
    ")"
   ],
   "metadata": {
    "collapsed": false
   }
  },
  {
   "cell_type": "markdown",
   "source": [
    "# Create the final recommender"
   ],
   "metadata": {
    "collapsed": false
   }
  },
  {
   "cell_type": "code",
   "execution_count": 29,
   "outputs": [
    {
     "name": "stdout",
     "output_type": "stream",
     "text": [
      "DifferentLossScoresHybridRecommender: URM Detected 3 ( 0.0%) users with no interactions.\n"
     ]
    }
   ],
   "source": [
    "recommender = DifferentLossRecommender(\n",
    "    URM_train= stacked_Urm_in_use,\n",
    "    Recommenders=[\n",
    "        recommender_Big6,\n",
    "        recommender_implicitAls,\n",
    "        recommender_Big5_tanh\n",
    "        ]\n",
    ")\n",
    "recommender.fit(\n",
    "    coefficients=[\n",
    "        45.99743013190489,\n",
    "        169.71401712945914,\n",
    "        60.06685090535372\n",
    "    ]\n",
    ")"
   ],
   "metadata": {
    "collapsed": false
   }
  },
  {
   "cell_type": "code",
   "execution_count": 18,
   "outputs": [
    {
     "name": "stdout",
     "output_type": "stream",
     "text": [
      "EvaluatorHoldout: Processed 40666 (100.0%) in 2.47 min. Users per second: 275\n"
     ]
    },
    {
     "data": {
      "text/plain": "(       PRECISION PRECISION_RECALL_MIN_DEN    RECALL       MAP MAP_MIN_DEN  \\\n cutoff                                                                      \n 10      0.057596                 0.095976  0.089661  0.028559    0.046434   \n \n              MRR      NDCG        F1  HIT_RATE ARHR_ALL_HITS  ...  \\\n cutoff                                                        ...   \n 10      0.188427  0.092215  0.070138  0.374293      0.230096  ...   \n \n        COVERAGE_USER COVERAGE_USER_HIT USERS_IN_GT DIVERSITY_GINI  \\\n cutoff                                                              \n 10          0.976867          0.365635    0.976867       0.016234   \n \n        SHANNON_ENTROPY RATIO_DIVERSITY_HERFINDAHL RATIO_DIVERSITY_GINI  \\\n cutoff                                                                   \n 10            8.692432                   0.993418             0.031492   \n \n        RATIO_SHANNON_ENTROPY RATIO_AVERAGE_POPULARITY RATIO_NOVELTY  \n cutoff                                                               \n 10                  0.642995                 4.258934      0.238537  \n \n [1 rows x 27 columns],\n 'CUTOFF: 10 - PRECISION: 0.0575960, PRECISION_RECALL_MIN_DEN: 0.0959759, RECALL: 0.0896613, MAP: 0.0285587, MAP_MIN_DEN: 0.0464343, MRR: 0.1884271, NDCG: 0.0922151, F1: 0.0701376, HIT_RATE: 0.3742930, ARHR_ALL_HITS: 0.2300960, NOVELTY: 0.0042381, AVERAGE_POPULARITY: 0.2173502, DIVERSITY_MEAN_INTER_LIST: 0.9310102, DIVERSITY_HERFINDAHL: 0.9930987, COVERAGE_ITEM: 0.1185376, COVERAGE_ITEM_HIT: 0.0610030, ITEMS_IN_GT: 0.9929816, COVERAGE_USER: 0.9768671, COVERAGE_USER_HIT: 0.3656345, USERS_IN_GT: 0.9768671, DIVERSITY_GINI: 0.0162336, SHANNON_ENTROPY: 8.6924323, RATIO_DIVERSITY_HERFINDAHL: 0.9934179, RATIO_DIVERSITY_GINI: 0.0314920, RATIO_SHANNON_ENTROPY: 0.6429955, RATIO_AVERAGE_POPULARITY: 4.2589343, RATIO_NOVELTY: 0.2385368, \\n')"
     },
     "execution_count": 18,
     "metadata": {},
     "output_type": "execute_result"
    }
   ],
   "source": [
    "evaluator_validation.evaluateRecommender(recommender)"
   ],
   "metadata": {
    "collapsed": false
   }
  },
  {
   "cell_type": "code",
   "execution_count": null,
   "outputs": [],
   "source": [
    "import time\n",
    "test_users = pd.read_csv('./DatasetCompetition/data_target_users_test.csv')\n",
    "user_id = test_users['user_id']\n",
    "recommendations = []\n",
    "startTime = time.time()\n",
    "for user in user_id:\n",
    "    recommendations.append(recommender.recommend(user, cutoff=10))\n",
    "    if user%1000 == 0:\n",
    "        print(\"elapsed: {}\".format(time.time()-startTime))\n",
    "for index in range(len(recommendations)):\n",
    "    recommendations[index] = np.array(recommendations[index])\n",
    "\n",
    "test_users['item_list'] = recommendations\n",
    "test_users['item_list'] = pd.DataFrame(\n",
    "    [str(line).strip('[').strip(']').replace(\"'\", \"\") for line in test_users['item_list']])\n",
    "test_users.to_csv('FINAL_SUB.csv', index=False)"
   ],
   "metadata": {
    "collapsed": false,
    "pycharm": {
     "is_executing": true
    }
   }
  }
 ],
 "metadata": {
  "kernelspec": {
   "display_name": "Python 3",
   "language": "python",
   "name": "python3"
  },
  "language_info": {
   "codemirror_mode": {
    "name": "ipython",
    "version": 2
   },
   "file_extension": ".py",
   "mimetype": "text/x-python",
   "name": "python",
   "nbconvert_exporter": "python",
   "pygments_lexer": "ipython2",
   "version": "2.7.6"
  }
 },
 "nbformat": 4,
 "nbformat_minor": 0
}
