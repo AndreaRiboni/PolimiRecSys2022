{
 "cells": [
  {
   "cell_type": "markdown",
   "source": [
    "# Saving and Loading SLIM-EN"
   ],
   "metadata": {
    "collapsed": false
   }
  },
  {
   "cell_type": "code",
   "execution_count": 1,
   "outputs": [
    {
     "name": "stdout",
     "output_type": "stream",
     "text": [
      "EvaluatorHoldout: Ignoring 963 ( 2.3%) Users that have less than 1 test interactions\n"
     ]
    }
   ],
   "source": [
    "from RecSys2022.Evaluation.Evaluator import EvaluatorHoldout\n",
    "import pandas as pd\n",
    "import numpy as np\n",
    "import scipy.sparse as sps\n",
    "import matplotlib.pyplot as pyplot\n",
    "import scipy.sparse.csr\n",
    "\n",
    "from Data_manager.split_functions.split_train_validation_random_holdout import split_train_in_two_percentage_global_sample\n",
    "import RecSys2022.Utils.DataReader as dr\n",
    "\n",
    "URM_all = dr.load_urm(\"../data/URMtries/RatingsBinary.csv\")\n",
    "ICM_tr = dr.load_icm(\"../data/data_ICM_type_truncated.csv\")\n",
    "\n",
    "URM_train = sps.load_npz(\"trainDefault.npz\")\n",
    "URM_valid = sps.load_npz(\"validDefault.npz\")\n",
    "evaluator_validation = EvaluatorHoldout(URM_valid, cutoff_list=[10])\n",
    "stacked_URM = sps.vstack([URM_all, ICM_tr.T])\n",
    "stacked_URM_train = sps.vstack([URM_train, ICM_tr.T])"
   ],
   "metadata": {
    "collapsed": false
   }
  },
  {
   "cell_type": "markdown",
   "source": [
    "# If we don't have a model, we fit a new one"
   ],
   "metadata": {
    "collapsed": false
   }
  },
  {
   "cell_type": "code",
   "execution_count": 2,
   "outputs": [],
   "source": [
    "from Recommenders.SLIM.SLIMElasticNetRecommender import SLIMElasticNetRecommender\n",
    "recommender_slim = SLIMElasticNetRecommender(URM_all)"
   ],
   "metadata": {
    "collapsed": false
   }
  },
  {
   "cell_type": "code",
   "execution_count": null,
   "outputs": [],
   "source": [
    "recommender_slim.fit()"
   ],
   "metadata": {
    "collapsed": false
   }
  },
  {
   "cell_type": "markdown",
   "source": [
    "# Then we save the model"
   ],
   "metadata": {
    "collapsed": false
   }
  },
  {
   "cell_type": "code",
   "execution_count": 3,
   "outputs": [
    {
     "name": "stdout",
     "output_type": "stream",
     "text": [
      "IALSRecommender: Saving model in file './data/IALSRecommender'\n",
      "IALSRecommender: Saving complete\n"
     ]
    }
   ],
   "source": [
    "recommender_slim.save_model(\"./data/\")"
   ],
   "metadata": {
    "collapsed": false
   }
  },
  {
   "cell_type": "markdown",
   "source": [
    "# Otherwise, we can load an existing model"
   ],
   "metadata": {
    "collapsed": false
   }
  },
  {
   "cell_type": "code",
   "execution_count": 3,
   "outputs": [
    {
     "name": "stdout",
     "output_type": "stream",
     "text": [
      "IALSRecommender: Loading model from file './dataIALSRecommender'\n",
      "{'ITEM_factors': array([[ 0.05075944,  0.03401832,  0.00681897, ...,  0.01707857,\n",
      "         0.0505646 ,  0.08864662],\n",
      "       [ 0.12346936,  0.12667707,  0.02940156, ...,  0.07390167,\n",
      "         0.03589293,  0.16802832],\n",
      "       [-0.00601232,  0.00361772, -0.00897951, ..., -0.00760472,\n",
      "         0.02954428, -0.00999238],\n",
      "       ...,\n",
      "       [-0.01648278,  0.02401991,  0.00637592, ...,  0.02608157,\n",
      "         0.02806608,  0.00092032],\n",
      "       [ 0.01417562,  0.01384747,  0.02761083, ...,  0.00731777,\n",
      "         0.02580486,  0.01512232],\n",
      "       [ 0.01625745,  0.00380571, -0.01549958, ..., -0.00385232,\n",
      "         0.03337746,  0.01772258]])}\n",
      "{'ITEM_factors': array([[ 0.05075944,  0.03401832,  0.00681897, ...,  0.01707857,\n",
      "         0.0505646 ,  0.08864662],\n",
      "       [ 0.12346936,  0.12667707,  0.02940156, ...,  0.07390167,\n",
      "         0.03589293,  0.16802832],\n",
      "       [-0.00601232,  0.00361772, -0.00897951, ..., -0.00760472,\n",
      "         0.02954428, -0.00999238],\n",
      "       ...,\n",
      "       [-0.01648278,  0.02401991,  0.00637592, ...,  0.02608157,\n",
      "         0.02806608,  0.00092032],\n",
      "       [ 0.01417562,  0.01384747,  0.02761083, ...,  0.00731777,\n",
      "         0.02580486,  0.01512232],\n",
      "       [ 0.01625745,  0.00380571, -0.01549958, ..., -0.00385232,\n",
      "         0.03337746,  0.01772258]]), 'USER_factors': array([[-0.04633972, -0.23482518, -0.00569978, ..., -0.18851535,\n",
      "         0.01145379, -0.05308174],\n",
      "       [-0.01669994, -0.02425907, -0.06997097, ..., -0.05170072,\n",
      "        -0.04124232, -0.01250179],\n",
      "       [ 0.08321198, -0.02258886, -0.08114627, ..., -0.13550032,\n",
      "        -0.23268852, -0.0862949 ],\n",
      "       ...,\n",
      "       [-0.0299914 ,  0.09924103,  0.02229482, ...,  0.03323178,\n",
      "         0.03959539, -0.00947642],\n",
      "       [ 0.14744438,  0.09949946, -0.02767741, ...,  0.2519245 ,\n",
      "         0.05711037, -0.06847807],\n",
      "       [-0.0142596 ,  0.03097135, -0.05360045, ..., -0.13075571,\n",
      "         0.05882492, -0.00312569]])}\n",
      "{'ITEM_factors': array([[ 0.05075944,  0.03401832,  0.00681897, ...,  0.01707857,\n",
      "         0.0505646 ,  0.08864662],\n",
      "       [ 0.12346936,  0.12667707,  0.02940156, ...,  0.07390167,\n",
      "         0.03589293,  0.16802832],\n",
      "       [-0.00601232,  0.00361772, -0.00897951, ..., -0.00760472,\n",
      "         0.02954428, -0.00999238],\n",
      "       ...,\n",
      "       [-0.01648278,  0.02401991,  0.00637592, ...,  0.02608157,\n",
      "         0.02806608,  0.00092032],\n",
      "       [ 0.01417562,  0.01384747,  0.02761083, ...,  0.00731777,\n",
      "         0.02580486,  0.01512232],\n",
      "       [ 0.01625745,  0.00380571, -0.01549958, ..., -0.00385232,\n",
      "         0.03337746,  0.01772258]]), 'USER_factors': array([[-0.04633972, -0.23482518, -0.00569978, ..., -0.18851535,\n",
      "         0.01145379, -0.05308174],\n",
      "       [-0.01669994, -0.02425907, -0.06997097, ..., -0.05170072,\n",
      "        -0.04124232, -0.01250179],\n",
      "       [ 0.08321198, -0.02258886, -0.08114627, ..., -0.13550032,\n",
      "        -0.23268852, -0.0862949 ],\n",
      "       ...,\n",
      "       [-0.0299914 ,  0.09924103,  0.02229482, ...,  0.03323178,\n",
      "         0.03959539, -0.00947642],\n",
      "       [ 0.14744438,  0.09949946, -0.02767741, ...,  0.2519245 ,\n",
      "         0.05711037, -0.06847807],\n",
      "       [-0.0142596 ,  0.03097135, -0.05360045, ..., -0.13075571,\n",
      "         0.05882492, -0.00312569]]), 'use_bias': False}\n",
      "IALSRecommender: Loading complete\n"
     ]
    }
   ],
   "source": [
    "recommender_slim.load_model(\"./data\")"
   ],
   "metadata": {
    "collapsed": false
   }
  },
  {
   "cell_type": "code",
   "execution_count": 43,
   "outputs": [],
   "source": [
    "recommender_slim.W_sparse = recommender_slim.W_sparse.get('W_sparse')"
   ],
   "metadata": {
    "collapsed": false
   }
  }
 ],
 "metadata": {
  "kernelspec": {
   "display_name": "Python 3",
   "language": "python",
   "name": "python3"
  },
  "language_info": {
   "codemirror_mode": {
    "name": "ipython",
    "version": 2
   },
   "file_extension": ".py",
   "mimetype": "text/x-python",
   "name": "python",
   "nbconvert_exporter": "python",
   "pygments_lexer": "ipython2",
   "version": "2.7.6"
  }
 },
 "nbformat": 4,
 "nbformat_minor": 0
}
